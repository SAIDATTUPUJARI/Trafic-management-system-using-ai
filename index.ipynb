{
 "cells": [
  {
   "cell_type": "code",
   "execution_count": null,
   "id": "3716482d",
   "metadata": {},
   "outputs": [],
   "source": [
    "import numpy as np\n",
    "import pandas as pd\n",
    "import tensorflow as tf\n",
    "from tensorflow import keras\n",
    "from sklearn.model_selection import train_test_split\n",
    "from sklearn.preprocessing import MinMaxScaler\n",
    "import matplotlib.pyplot as plt"
   ]
  },
  {
   "cell_type": "code",
   "execution_count": null,
   "id": "00b34bb1",
   "metadata": {},
   "outputs": [],
   "source": [
    "# Simulated Traffic Data Generation\n",
    "def generate_traffic_data(samples=1000):\n",
    "    np.random.seed(42)\n",
    "    time_of_day = np.random.randint(0, 24, samples)\n",
    "    day_of_week = np.random.randint(0, 7, samples)\n",
    "    previous_traffic = np.random.randint(0, 100, samples)\n",
    "    special_event = np.random.randint(0, 2, samples)\n",
    "    congestion_level = (previous_traffic * 0.7 + time_of_day * 1.5 + day_of_week * 2 + special_event * 10)\n",
    "    congestion_level = congestion_level / congestion_level.max()  # Normalize\n",
    "    return np.column_stack((time_of_day, day_of_week, previous_traffic, special_event, congestion_level))\n"
   ]
  },
  {
   "cell_type": "code",
   "execution_count": null,
   "id": "1f0f10e9",
   "metadata": {},
   "outputs": [],
   "source": [
    "\n",
    "# Prepare Data\n",
    "data = generate_traffic_data()\n",
    "df = pd.DataFrame(data, columns=['Time_of_Day', 'Day_of_Week', 'Previous_Traffic', 'Special_Event', 'Congestion_Level'])\n",
    "X = df.iloc[:, :-1].values\n",
    "y = df.iloc[:, -1].values\n",
    "\n"
   ]
  },
  {
   "cell_type": "code",
   "execution_count": null,
   "id": "7dc43a7c",
   "metadata": {},
   "outputs": [],
   "source": [
    "scaler = MinMaxScaler()\n",
    "X = scaler.fit_transform(X)\n",
    "\n",
    "X_train, X_test, y_train, y_test = train_test_split(X, y, test_size=0.2, random_state=42)\n"
   ]
  },
  {
   "cell_type": "code",
   "execution_count": null,
   "id": "e4935aaa",
   "metadata": {},
   "outputs": [],
   "source": [
    "\n",
    "# Build Model\n",
    "model = keras.Sequential([\n",
    "    keras.layers.Dense(16, activation='relu', input_shape=(X_train.shape[1],)),\n",
    "    keras.layers.Dense(8, activation='relu'),\n",
    "    keras.layers.Dense(1, activation='sigmoid')\n",
    "])\n",
    "\n",
    "model.compile(optimizer='adam', loss='mean_squared_error', metrics=['mae'])\n",
    "\n"
   ]
  },
  {
   "cell_type": "code",
   "execution_count": null,
   "id": "0bd01c72",
   "metadata": {},
   "outputs": [],
   "source": [
    "# Train Model\n",
    "history = model.fit(X_train, y_train, epochs=50, validation_data=(X_test, y_test), verbose=1)\n",
    "\n"
   ]
  },
  {
   "cell_type": "code",
   "execution_count": null,
   "id": "8cc84d7c",
   "metadata": {},
   "outputs": [],
   "source": [
    "# Plot Training Results\n",
    "plt.plot(history.history['mae'], label='MAE')\n",
    "plt.plot(history.history['val_mae'], label='Validation MAE')\n",
    "plt.xlabel('Epochs')\n",
    "plt.ylabel('Mean Absolute Error')\n",
    "plt.legend()\n",
    "plt.show()\n"
   ]
  },
  {
   "cell_type": "code",
   "execution_count": null,
   "id": "01299aa3",
   "metadata": {},
   "outputs": [],
   "source": [
    "\n",
    "# Predict\n",
    "predictions = model.predict(X_test)\n",
    "print(\"Sample Predictions:\", predictions[:5])\n"
   ]
  }
 ],
 "metadata": {
  "kernelspec": {
   "display_name": "Python 3 (ipykernel)",
   "language": "python",
   "name": "python3"
  },
  "language_info": {
   "codemirror_mode": {
    "name": "ipython",
    "version": 3
   },
   "file_extension": ".py",
   "mimetype": "text/x-python",
   "name": "python",
   "nbconvert_exporter": "python",
   "pygments_lexer": "ipython3",
   "version": "3.9.12"
  }
 },
 "nbformat": 4,
 "nbformat_minor": 5
}
